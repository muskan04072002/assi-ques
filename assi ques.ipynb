{
 "cells": [
  {
   "cell_type": "code",
   "execution_count": 1,
   "id": "77222eb2",
   "metadata": {},
   "outputs": [
    {
     "name": "stdout",
     "output_type": "stream",
     "text": [
      "Enter number of rows: 5\n",
      "A \n",
      "\n",
      "B B \n",
      "\n",
      "C C C \n",
      "\n",
      "D D D D \n",
      "\n",
      "E E E E E \n",
      "\n"
     ]
    }
   ],
   "source": [
    "#Write a Python Program to print half pyramid using alphabets\n",
    "rows = int(input(\"Enter number of rows: \"))\n",
    "\n",
    "ascii_value = 65\n",
    "\n",
    "for i in range(rows):\n",
    "    for j in range(i+1):\n",
    "        alphabet = chr(ascii_value)\n",
    "        print(alphabet, end=\" \")\n",
    "    \n",
    "    ascii_value += 1\n",
    "    print(\"\\n\")"
   ]
  },
  {
   "cell_type": "code",
   "execution_count": 2,
   "id": "f4f12487",
   "metadata": {},
   "outputs": [
    {
     "name": "stdout",
     "output_type": "stream",
     "text": [
      "Enter number of rows: 5\n",
      "* \n",
      "\n",
      "* * \n",
      "\n",
      "* * * \n",
      "\n",
      "* * * * \n",
      "\n",
      "* * * * * \n",
      "\n"
     ]
    }
   ],
   "source": [
    "#Write a Python Program to print full pyramid using '*' symbol\n",
    "rows = int(input(\"Enter number of rows: \"))\n",
    "\n",
    "for i in range(rows):\n",
    "    for j in range(i+1):\n",
    "        print(\"* \", end=\"\")\n",
    "    print(\"\\n\")"
   ]
  },
  {
   "cell_type": "code",
   "execution_count": 5,
   "id": "c63a0f8b",
   "metadata": {},
   "outputs": [
    {
     "name": "stdout",
     "output_type": "stream",
     "text": [
      "Enter a number : 567\n",
      "765\n"
     ]
    }
   ],
   "source": [
    "#Take a number as input from the user. Print the number in reversed order. For example, for input 567, output should be: 765\n",
    "try:\n",
    "\tn = int(input('Enter a number : '))\n",
    "\treversed = 0\n",
    "\t\n",
    "\twhile(n!=0):\n",
    "\t\tr=int(n%10)\n",
    "\t\treversed = reversed*10 + r\n",
    "\t\tn=int(n/10)\n",
    "\t\t\n",
    "\tprint(reversed)\n",
    "except ValueError:\n",
    "\tprint('Given input is not a number.')\n"
   ]
  },
  {
   "cell_type": "code",
   "execution_count": 8,
   "id": "e7a64a10",
   "metadata": {},
   "outputs": [
    {
     "name": "stdout",
     "output_type": "stream",
     "text": [
      "Index of a peak point is 2\n"
     ]
    }
   ],
   "source": [
    "def findPeak(arr, n) :\n",
    " \n",
    "    # first or last element is peak element\n",
    "    if (n == 1) :\n",
    "      return 0\n",
    "    if (arr[0] >= arr[1]) :\n",
    "        return 0\n",
    "    if (arr[n - 1] >= arr[n - 2]) :\n",
    "        return n - 1\n",
    "  \n",
    "    # check for every other element\n",
    "    for i in range(1, n - 1) :\n",
    "  \n",
    "        # check if the neighbors are smaller\n",
    "        if (arr[i] >= arr[i - 1] and arr[i] >= arr[i + 1]) :\n",
    "            return i\n",
    "             \n",
    "# Driver code.\n",
    "arr = [5, 10, 20, 15]\n",
    "n = len(arr)\n",
    "print(\"Index of a peak point is\", findPeak(arr, n))"
   ]
  },
  {
   "cell_type": "code",
   "execution_count": 9,
   "id": "01cd4216",
   "metadata": {},
   "outputs": [
    {
     "name": "stdout",
     "output_type": "stream",
     "text": [
      "Given array is\n",
      "1 2 3 4 5 \n",
      "Rotated array is\n",
      "5 1 2 3 4 "
     ]
    }
   ],
   "source": [
    "def rotate(arr, n):\n",
    "    x = arr[n - 1]\n",
    "     \n",
    "    for i in range(n - 1, 0, -1):\n",
    "        arr[i] = arr[i - 1];\n",
    "         \n",
    "    arr[0] = x;\n",
    " \n",
    " \n",
    "# Driver function\n",
    "arr= [1, 2, 3, 4, 5]\n",
    "n = len(arr)\n",
    "print (\"Given array is\")\n",
    "for i in range(0, n):\n",
    "    print (arr[i], end = ' ')\n",
    " \n",
    "rotate(arr, n)\n",
    "print (\"\\nRotated array is\")\n",
    "for i in range(0, n):\n",
    "    print (arr[i], end = ' ')"
   ]
  },
  {
   "cell_type": "code",
   "execution_count": 10,
   "id": "2489f159",
   "metadata": {},
   "outputs": [
    {
     "name": "stdout",
     "output_type": "stream",
     "text": [
      "Length of the Longest contiguous subsequence is 3\n"
     ]
    }
   ],
   "source": [
    "#Given an array of integers, find the length of the longest sub-sequence\n",
    "#such that elements in the subsequence are consecutive integers, the consecutive numbers can be in any order. \n",
    "def findLongestConseqSubseq(arr, n):\n",
    " \n",
    "    ans = 0\n",
    "    count = 0\n",
    " \n",
    "    # Sort the array\n",
    "    arr.sort()\n",
    " \n",
    "    v = []\n",
    " \n",
    "    v.append(arr[0])\n",
    " \n",
    "    # Insert repeated elements only\n",
    "    # once in the vector\n",
    "    for i in range(1, n):\n",
    "        if (arr[i] != arr[i - 1]):\n",
    "            v.append(arr[i])\n",
    " \n",
    "    # Find the maximum length\n",
    "    # by traversing the array\n",
    "    for i in range(len(v)):\n",
    " \n",
    "        # Check if the current element is\n",
    "        # equal to previous element +1\n",
    "        if (i > 0 and v[i] == v[i - 1] + 1):\n",
    "            count += 1\n",
    " \n",
    "        # Reset the count\n",
    "        else:\n",
    "            count = 1\n",
    " \n",
    "        # Update the maximum\n",
    "        ans = max(ans, count)\n",
    " \n",
    "    return ans\n",
    " \n",
    " \n",
    "# Driver code\n",
    "arr = [1, 2, 2, 3]\n",
    "n = len(arr)\n",
    " \n",
    "print(\"Length of the Longest contiguous subsequence is\",\n",
    "      findLongestConseqSubseq(arr, n))"
   ]
  },
  {
   "cell_type": "code",
   "execution_count": null,
   "id": "6c5e5162",
   "metadata": {},
   "outputs": [],
   "source": []
  }
 ],
 "metadata": {
  "kernelspec": {
   "display_name": "Python 3 (ipykernel)",
   "language": "python",
   "name": "python3"
  },
  "language_info": {
   "codemirror_mode": {
    "name": "ipython",
    "version": 3
   },
   "file_extension": ".py",
   "mimetype": "text/x-python",
   "name": "python",
   "nbconvert_exporter": "python",
   "pygments_lexer": "ipython3",
   "version": "3.9.12"
  }
 },
 "nbformat": 4,
 "nbformat_minor": 5
}
